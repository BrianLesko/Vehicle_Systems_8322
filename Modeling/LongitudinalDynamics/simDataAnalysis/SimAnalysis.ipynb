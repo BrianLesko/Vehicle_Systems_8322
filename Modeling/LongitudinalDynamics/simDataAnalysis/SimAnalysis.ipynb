{
 "cells": [
  {
   "attachments": {},
   "cell_type": "markdown",
   "metadata": {},
   "source": [
    "# Data analysis on Longitudinal Vehicle Dynamics Simulations\n",
    "\n",
    "This python file exists to use machine learning techniques for the regression problem of predicting the right motor torque to bring a vehicle from a start state to an end state. "
   ]
  },
  {
   "attachments": {},
   "cell_type": "markdown",
   "metadata": {},
   "source": [
    "## We will be using the following libraries\n",
    "pip install \n",
    "numpy\n",
    "pandas\n",
    "ipykernel\n",
    "scikit-learn \n",
    "matplotlib\n",
    "xgboost\n"
   ]
  },
  {
   "cell_type": "code",
   "execution_count": 50,
   "metadata": {},
   "outputs": [],
   "source": [
    "import numpy as np\n",
    "import matplotlib.pyplot as plt\n",
    "%matplotlib inline\n",
    "from sklearn import linear_model, preprocessing"
   ]
  },
  {
   "attachments": {},
   "cell_type": "markdown",
   "metadata": {},
   "source": [
    "First, we will import the data "
   ]
  },
  {
   "cell_type": "code",
   "execution_count": 51,
   "metadata": {},
   "outputs": [],
   "source": [
    "import pandas as pd\n",
    "\n",
    "acc_data = pd.read_csv('simResults/accelerationSimsSummary.csv')\n",
    "brake_data = pd.read_csv('simResults/brakeSimsSummary.csv')\n",
    "coast_data = pd.read_csv('simResults/coastSimsSummary.csv')"
   ]
  },
  {
   "cell_type": "code",
   "execution_count": 52,
   "metadata": {},
   "outputs": [
    {
     "name": "stdout",
     "output_type": "stream",
     "text": [
      "   Xs    Vs        As           Xe        Ve        Ae   avg_acc  time  Tm  Tb\n",
      "0   0  0.00  0.000000      0.00000   0.00000  0.000000  0.000000     0   0   0\n",
      "1   0  0.01  3.284619  15905.34733  31.63097  0.024179  0.052702   600  60   0\n",
      "acc_data size:  (20, 10)\n",
      "brake_data size:  (400, 10)\n",
      "coast_data size:  (20, 10)\n"
     ]
    }
   ],
   "source": [
    "print(acc_data.head(2))\n",
    "#print(brake_data.head(2))\n",
    "#print(coast_data.head(2))\n",
    "\n",
    "# the size of each data set\n",
    "print('acc_data size: ', acc_data.shape)\n",
    "print('brake_data size: ', brake_data.shape)\n",
    "print('coast_data size: ', coast_data.shape)"
   ]
  },
  {
   "cell_type": "code",
   "execution_count": 53,
   "metadata": {},
   "outputs": [
    {
     "name": "stdout",
     "output_type": "stream",
     "text": [
      "    Xs    Vs        As           Xe        Ve        Ae   avg_acc   time  Tm  \\\n",
      "0  0.0  0.00  0.000000      0.00000   0.00000  0.000000  0.000000    0.0   0   \n",
      "1  0.0  0.01  3.284619  15905.34733  31.63097  0.024179  0.052702  600.0  60   \n",
      "\n",
      "   Tb  \n",
      "0   0  \n",
      "1   0  \n",
      "(440, 10)\n"
     ]
    }
   ],
   "source": [
    "combined_df = pd.concat([acc_data, brake_data, coast_data])\n",
    "print(combined_df.head(2))\n",
    "# the size is \n",
    "print(combined_df.shape)"
   ]
  },
  {
   "attachments": {},
   "cell_type": "markdown",
   "metadata": {},
   "source": [
    "The datasets have been stacked correctly"
   ]
  },
  {
   "cell_type": "code",
   "execution_count": 54,
   "metadata": {},
   "outputs": [
    {
     "name": "stdout",
     "output_type": "stream",
     "text": [
      "(440, 8)\n",
      "(440,)\n"
     ]
    }
   ],
   "source": [
    "X = combined_df.drop(['Tm', 'Tb'], axis=1)\n",
    "y = combined_df['Tm'] - combined_df['Tb']\n",
    "#print the shapes of each\n",
    "print(X.shape)\n",
    "print(y.shape)"
   ]
  },
  {
   "cell_type": "code",
   "execution_count": 55,
   "metadata": {},
   "outputs": [
    {
     "name": "stdout",
     "output_type": "stream",
     "text": [
      "(7, 3)\n",
      "(7, 3)\n"
     ]
    }
   ],
   "source": [
    "# Lets make some test data, the test data should consist of a beginning and end state\n",
    "\n",
    "X0 = np.array([0.0, 0.0, 0.0, 0.0, 0.0, 0.0, 0.0])\n",
    "V0 = np.array([0.0, 0.0, 0.0, 0.0, 0.0, 0.0, 0.0])\n",
    "A0 = np.array([0.0, 0.0, 0.0, 0.0, 0.0, 0.0, 0.0])\n",
    "\n",
    "# the start state\n",
    "# we will constrict the start state to have zero accelerations\n",
    "Xs = np.array([0.0, 0.0, 0.0, 0.0, 0.0, 0.0, 0.0])\n",
    "Vs = np.array([1.0, 5.0, 10.0, 7.0, 6.0, 15.0, 20.0])\n",
    "As = np.array([0.0, 0.0, 0.0, 0.0, 0.0, 0.0, 0.0])\n",
    "\n",
    "# combine the start states into a matrix \n",
    "startStates = np.vstack((Xs, Vs, As)).T\n",
    "print(startStates.shape)\n",
    "\n",
    "# the end state\n",
    "# the end state is the vehicle stopped at some position\n",
    "Xe = np.array([1.0, 5.0, 10.0, 20.0, 30.0, 50.0, 100.0])\n",
    "Ve = np.array([0.0, 0.0, 0.0, 0.0, 0.0, 0.0, 0.0])\n",
    "Ae = np.array([0.0, 0.0, 0.0, 0.0, 0.0, 0.0, 0.0])\n",
    "\n",
    "# combine the end states into a matrix\n",
    "endStates = np.vstack((Xe, Ve, Ae)).T\n",
    "print(endStates.shape)"
   ]
  },
  {
   "attachments": {},
   "cell_type": "markdown",
   "metadata": {},
   "source": [
    "#### from these states we can calculate the time to complete the maneuver and average acceleration\n",
    "\n",
    "Goal vehicle state : [X,V,A]end\n",
    "\n",
    "Start vehicle state : [X,V,A]start\n",
    "\n",
    "[X,V,A]end - [X,V,A]start = [X,V,A]change\n",
    "\n",
    "A_needed = Vc / Time  (m/s^2)\n",
    "\n",
    "Time = Xc / Avg_V (s) \n",
    "\n",
    "Avg_V = Vstart + Vchange/2  (m/s) \n",
    "\n",
    "Resulting in: A_needed = Vc (Vs + Vc/2) / Xc (m/s^2)"
   ]
  },
  {
   "cell_type": "code",
   "execution_count": 56,
   "metadata": {},
   "outputs": [],
   "source": [
    "# define a function that takes the start state and end state and returns the time to complete the maneuver and average acc\n",
    "def get_time_and_acc(startState, endState):\n",
    "    # the format of the start and end state is [x, v, a]\n",
    "    # the start state is the initial state of the vehicle\n",
    "    # the end state is the final state of the vehicle\n",
    "\n",
    "    # the change in position, velocity, and acceleration\n",
    "    dx = endState[0] - startState[0]\n",
    "    dv = endState[1] - startState[1]\n",
    "    da = endState[2] - startState[2]\n",
    "    \n",
    "    # the average velocity\n",
    "    v_avg = startState[1] + dv/2.0\n",
    "\n",
    "    # the time to complete the maneuver\n",
    "    t = dx/v_avg\n",
    "\n",
    "    # the needed acceleration\n",
    "    a = dv/t\n",
    "\n",
    "    return t, a"
   ]
  },
  {
   "cell_type": "code",
   "execution_count": 57,
   "metadata": {},
   "outputs": [
    {
     "name": "stdout",
     "output_type": "stream",
     "text": [
      "t:  2.0 a:  -0.5\n",
      "t:  10.0 a:  -0.1\n",
      "t:  20.0 a:  -0.05\n",
      "t:  40.0 a:  -0.025\n",
      "t:  60.0 a:  -0.016666666666666666\n",
      "t:  100.0 a:  -0.01\n",
      "t:  200.0 a:  -0.005\n",
      "t:  0.4 a:  -12.5\n",
      "t:  2.0 a:  -2.5\n",
      "t:  4.0 a:  -1.25\n",
      "t:  8.0 a:  -0.625\n",
      "t:  12.0 a:  -0.4166666666666667\n",
      "t:  20.0 a:  -0.25\n",
      "t:  40.0 a:  -0.125\n",
      "t:  0.2 a:  -50.0\n",
      "t:  1.0 a:  -10.0\n",
      "t:  2.0 a:  -5.0\n",
      "t:  4.0 a:  -2.5\n",
      "t:  6.0 a:  -1.6666666666666667\n",
      "t:  10.0 a:  -1.0\n",
      "t:  20.0 a:  -0.5\n",
      "t:  0.2857142857142857 a:  -24.5\n",
      "t:  1.4285714285714286 a:  -4.8999999999999995\n",
      "t:  2.857142857142857 a:  -2.4499999999999997\n",
      "t:  5.714285714285714 a:  -1.2249999999999999\n",
      "t:  8.571428571428571 a:  -0.8166666666666667\n",
      "t:  14.285714285714286 a:  -0.49\n",
      "t:  28.571428571428573 a:  -0.245\n",
      "t:  0.3333333333333333 a:  -18.0\n",
      "t:  1.6666666666666667 a:  -3.5999999999999996\n",
      "t:  3.3333333333333335 a:  -1.7999999999999998\n",
      "t:  6.666666666666667 a:  -0.8999999999999999\n",
      "t:  10.0 a:  -0.6\n",
      "t:  16.666666666666668 a:  -0.36\n",
      "t:  33.333333333333336 a:  -0.18\n",
      "t:  0.13333333333333333 a:  -112.5\n",
      "t:  0.6666666666666666 a:  -22.5\n",
      "t:  1.3333333333333333 a:  -11.25\n",
      "t:  2.6666666666666665 a:  -5.625\n",
      "t:  4.0 a:  -3.75\n",
      "t:  6.666666666666667 a:  -2.25\n",
      "t:  13.333333333333334 a:  -1.125\n",
      "t:  0.1 a:  -200.0\n",
      "t:  0.5 a:  -40.0\n",
      "t:  1.0 a:  -20.0\n",
      "t:  2.0 a:  -10.0\n",
      "t:  3.0 a:  -6.666666666666667\n",
      "t:  5.0 a:  -4.0\n",
      "t:  10.0 a:  -2.0\n",
      "(49, 8)\n"
     ]
    },
    {
     "data": {
      "text/plain": [
       "Text(0.5, 1.0, 'Time vs Acceleration for each maneuver')"
      ]
     },
     "execution_count": 57,
     "metadata": {},
     "output_type": "execute_result"
    },
    {
     "data": {
      "image/png": "[encoded data removed]",
      "text/plain": [
       "<Figure size 640x480 with 1 Axes>"
      ]
     },
     "metadata": {},
     "output_type": "display_data"
    }
   ],
   "source": [
    "# double for loop to calculate combinations \n",
    "results = []\n",
    "for i in range(startStates.shape[0]):\n",
    "    for j in range(endStates.shape[0]):\n",
    "        # get the start and end state\n",
    "        startState = startStates[i, :]\n",
    "        endState = endStates[j, :]\n",
    "        \n",
    "        # get the time and acceleration\n",
    "        t, a = get_time_and_acc(startState, endState)\n",
    "\n",
    "        # print the t and a\n",
    "        print('t: ', t, 'a: ', a)\n",
    "\n",
    "        # create an array with start state end state time and acceleration\n",
    "        result = np.hstack((startState, endState, a, t))\n",
    "        \n",
    "        # append result to list\n",
    "        results.append((result))\n",
    "\n",
    "# convert the results to a numpy array\n",
    "results = np.array(results)\n",
    "print(results.shape)\n",
    "\n",
    "# plot the t vs a for each maneuver\n",
    "plt.figure()\n",
    "plt.plot(results[:, 7], results[:, 6], 'o')\n",
    "plt.xlabel('Time (s)')\n",
    "plt.ylabel('Acceleration (m/s^2)')\n",
    "plt.title('Time vs Acceleration for each maneuver')"
   ]
  },
  {
   "attachments": {},
   "cell_type": "markdown",
   "metadata": {},
   "source": [
    "Lets reduce the test points "
   ]
  },
  {
   "cell_type": "code",
   "execution_count": 58,
   "metadata": {},
   "outputs": [
    {
     "name": "stdout",
     "output_type": "stream",
     "text": [
      "(37, 8)\n",
      "(35, 8)\n"
     ]
    }
   ],
   "source": [
    "# trim results where acceleration is under -9.81 m/s^2\n",
    "results_trimmed = results[results[:, 6] > -9.81, :]\n",
    "print(results_trimmed.shape)\n",
    "\n",
    "# trim the results where the time is greater than 70 seconds\n",
    "results_trimmed2 = results_trimmed[results_trimmed[:, 7] < 70, :]\n",
    "print(results_trimmed2.shape)"
   ]
  },
  {
   "cell_type": "code",
   "execution_count": 72,
   "metadata": {},
   "outputs": [
    {
     "data": {
      "text/plain": [
       "Text(0.5, 1.0, 'Slowing down sims Acceleration vs. Time')"
      ]
     },
     "execution_count": 72,
     "metadata": {},
     "output_type": "execute_result"
    },
    {
     "data": {
      "image/png": "[encoded data removed]",
      "text/plain": [
       "<Figure size 640x480 with 1 Axes>"
      ]
     },
     "metadata": {},
     "output_type": "display_data"
    }
   ],
   "source": [
    "# plot the trimmed results\n",
    "plt.figure()\n",
    "plt.plot(results_trimmed2[:, 7], results_trimmed2[:, 6], 'o')\n",
    "plt.xlabel('Time (s)')\n",
    "plt.ylabel('Acceleration (m/s^2)')\n",
    "plt.title('Slowing down sims Acceleration vs. Time')"
   ]
  },
  {
   "cell_type": "code",
   "execution_count": 62,
   "metadata": {},
   "outputs": [
    {
     "name": "stdout",
     "output_type": "stream",
     "text": [
      "(35, 8)\n"
     ]
    }
   ],
   "source": [
    "# rename results to X_test\n",
    "X_test = results_trimmed2\n",
    "print(X_test.shape)"
   ]
  },
  {
   "attachments": {},
   "cell_type": "markdown",
   "metadata": {},
   "source": [
    "Now lets train multiple machine learning algorithms on this data, and then input test cases to test back in Simulink"
   ]
  },
  {
   "attachments": {},
   "cell_type": "markdown",
   "metadata": {},
   "source": [
    "### Linear Models "
   ]
  },
  {
   "cell_type": "code",
   "execution_count": 70,
   "metadata": {},
   "outputs": [
    {
     "name": "stderr",
     "output_type": "stream",
     "text": [
      "/Users/brianlesko/Documents/VehicleSystems/Modeling/LongitudinalDynamics/simDataAnalysis/virtualEnv/lib/python3.10/site-packages/sklearn/base.py:464: UserWarning: X does not have valid feature names, but LinearRegression was fitted with feature names\n",
      "  warnings.warn(\n",
      "/Users/brianlesko/Documents/VehicleSystems/Modeling/LongitudinalDynamics/simDataAnalysis/virtualEnv/lib/python3.10/site-packages/sklearn/base.py:464: UserWarning: X does not have valid feature names, but SVR was fitted with feature names\n",
      "  warnings.warn(\n"
     ]
    }
   ],
   "source": [
    "# train a linear regression model\n",
    "lm = linear_model.LinearRegression()\n",
    "model = lm.fit(X, y)\n",
    "y_pred_lm = model.predict(X_test)\n",
    "\n",
    "# train an SVM model\n",
    "from sklearn import svm\n",
    "clf = svm.SVR() \n",
    "clf.fit(X, y)\n",
    "y_pred_svm = clf.predict(X_test)\n",
    "\n",
    "# save the results to a csv file\n",
    "Xtest = pd.DataFrame(X_test, columns=['Xs', 'Vs', 'As', 'Xe', 'Ve', 'Ae', 'a', 't'])\n",
    "y_pred_lm = pd.DataFrame(y_pred_lm, columns=['Tm-Tb'])\n",
    "y_pred_svm = pd.DataFrame(y_pred_svm, columns=['Tm-Tb'])\n",
    "Xtest.to_csv('mlPredictions/Xtest.csv', index=False)\n",
    "y_pred_lm.to_csv('mlPredictions/y_pred_lm.csv', index=False)\n",
    "y_pred_svm.to_csv('mlPredictions/y_pred_svm.csv', index=False)"
   ]
  },
  {
   "attachments": {},
   "cell_type": "markdown",
   "metadata": {},
   "source": [
    "### Tree Model"
   ]
  },
  {
   "cell_type": "code",
   "execution_count": 71,
   "metadata": {},
   "outputs": [
    {
     "name": "stdout",
     "output_type": "stream",
     "text": [
      "[11:41:04] WARNING: /Users/runner/work/xgboost/xgboost/python-package/build/temp.macosx-11.0-arm64-cpython-38/xgboost/src/objective/regression_obj.cu:213: reg:linear is now deprecated in favor of reg:squarederror.\n"
     ]
    }
   ],
   "source": [
    "# train an xgb model\n",
    "import xgboost as xgb\n",
    "xgb_model = xgb.XGBRegressor(objective=\"reg:linear\", random_state=42)\n",
    "xgb_model.fit(X, y)\n",
    "y_pred_xgb = xgb_model.predict(X_test)\n",
    "\n",
    "# save the results to a csv file\n",
    "y_pred_xgb = pd.DataFrame(y_pred_xgb, columns=['Tm-Tb'])\n",
    "y_pred_xgb.to_csv('mlPredictions/y_pred_xgb.csv', index=False)"
   ]
  }
 ],
 "metadata": {
  "kernelspec": {
   "display_name": "virtualEnv",
   "language": "python",
   "name": "python3"
  },
  "language_info": {
   "codemirror_mode": {
    "name": "ipython",
    "version": 3
   },
   "file_extension": ".py",
   "mimetype": "text/x-python",
   "name": "python",
   "nbconvert_exporter": "python",
   "pygments_lexer": "ipython3",
   "version": "3.10.10"
  },
  "orig_nbformat": 4
 },
 "nbformat": 4,
 "nbformat_minor": 2
}
